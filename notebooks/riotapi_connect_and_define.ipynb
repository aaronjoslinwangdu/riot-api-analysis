{
 "cells": [
  {
   "cell_type": "markdown",
   "id": "42bc5f8b",
   "metadata": {},
   "source": [
    "## Introduction\n",
    "-----------------------------\n",
    "\n",
    "In this notebook I'm using [Pantheon](https://github.com/Canisback/pantheon) to define various other functions for using the Riot API. The reason for using Pantheon is to make use of it's rate limiting system, since as a standalone account I can only make so many calls to the API without getting blacklisted."
   ]
  },
  {
   "cell_type": "code",
   "execution_count": 14,
   "id": "fec1623c",
   "metadata": {},
   "outputs": [],
   "source": [
    "import json, asyncio, nest_asyncio, datetime\n",
    "from pantheon import pantheon\n",
    "nest_asyncio.apply()"
   ]
  },
  {
   "cell_type": "markdown",
   "id": "ef953da7",
   "metadata": {},
   "source": [
    "For this next cell, I'm going to hide my API key and upload a picture of what it should look like. DO THIS HIDE YOUR API KEY BEFORE YOU UPLOAD THIS!"
   ]
  },
  {
   "cell_type": "code",
   "execution_count": 15,
   "id": "1c4396d8",
   "metadata": {},
   "outputs": [],
   "source": [
    "server = \"na1\"\n",
    "api_key = \"RGAPI-6b6ccf18-65e3-43d4-babf-c612c9e18fc3\""
   ]
  },
  {
   "cell_type": "markdown",
   "id": "7a4b006a",
   "metadata": {},
   "source": [
    "These are some functions provided in [Pantheon](https://github.com/Canisback/pantheon) that I will use to get any account's summoner ID and recent match history."
   ]
  },
  {
   "cell_type": "code",
   "execution_count": 23,
   "id": "9465f89c",
   "metadata": {},
   "outputs": [
    {
     "name": "stdout",
     "output_type": "stream",
     "text": [
      "https://na1.api.riotgames.com/lol/summoner/v4/summoners/by-name/MAMMOTHMAN65\n",
      "200\n",
      "<CIMultiDictProxy('Date': 'Wed, 08 Sep 2021 01:48:38 GMT', 'Content-Type': 'application/json;charset=utf-8', 'Transfer-Encoding': 'chunked', 'Connection': 'keep-alive', 'Vary': 'Accept-Encoding', 'X-App-Rate-Limit': '20:1,100:120', 'X-App-Rate-Limit-Count': '1:1,3:120', 'X-Method-Rate-Limit': '2000:60', 'X-Method-Rate-Limit-Count': '1:60', 'X-Riot-Edge-Trace-Id': '18f61dbf-e56c-494a-8418-14999e430305', 'Content-Encoding': 'gzip', 'Access-Control-Allow-Origin': '*', 'Access-Control-Allow-Methods': 'GET, PUT, DELETE, POST, OPTIONS', 'Access-Control-Allow-Headers': 'DNT,User-Agent,X-Requested-With,If-Modified-Since,Cache-Control,Content-Type,Range', 'Access-Control-Expose-Headers': 'Content-Length,Content-Range')>\n"
     ]
    }
   ],
   "source": [
    "def requestsLog(url, status, headers):\n",
    "    print(url)\n",
    "    print(status)\n",
    "    print(headers)\n",
    "\n",
    "panth = pantheon.Pantheon(server, api_key, errorHandling=True, requestsLoggingFunction=requestsLog, debug=True)\n",
    "\n",
    "async def getSummonerId(name):\n",
    "    try:\n",
    "        data = await panth.getSummonerByName(name)\n",
    "        return (data['id'],data['accountId'])\n",
    "    except Exception as e:\n",
    "        print(e)\n",
    "\n",
    "\n",
    "async def getRecentMatchlist(accountId):\n",
    "    try:\n",
    "        data = await panth.getMatchlist(accountId, params={\"endIndex\":20})\n",
    "        return data\n",
    "    except Exception as e:\n",
    "        print(e)\n",
    "\n",
    "async def getRecentMatches(accountId):\n",
    "    try:\n",
    "        matchlist = await getRecentMatchlist(accountId)\n",
    "        tasks = [panth.getMatch(match['gameId']) for match in matchlist['matches']]\n",
    "        return await asyncio.gather(*tasks)\n",
    "    except Exception as e:\n",
    "        print(e)\n",
    "        "
   ]
  },
  {
   "cell_type": "markdown",
   "id": "c8ed97f3",
   "metadata": {},
   "source": [
    "You can choose whatever summoner name you want to search for, I just used my own. "
   ]
  },
  {
   "cell_type": "code",
   "execution_count": 26,
   "id": "0b349e47",
   "metadata": {
    "tags": [
     "hide-output"
    ]
   },
   "outputs": [
    {
     "name": "stdout",
     "output_type": "stream",
     "text": [
      "https://na1.api.riotgames.com/lol/summoner/v4/summoners/by-name/Jooku\n",
      "200\n",
      "<CIMultiDictProxy('Date': 'Wed, 08 Sep 2021 01:51:59 GMT', 'Content-Type': 'application/json;charset=utf-8', 'Transfer-Encoding': 'chunked', 'Connection': 'keep-alive', 'Vary': 'Accept-Encoding', 'X-App-Rate-Limit': '20:1,100:120', 'X-App-Rate-Limit-Count': '1:1,3:120', 'X-Method-Rate-Limit': '2000:60', 'X-Method-Rate-Limit-Count': '3:60', 'X-Riot-Edge-Trace-Id': '50922550-d59e-4cde-bd57-eac6fae3a312', 'Content-Encoding': 'gzip', 'Access-Control-Allow-Origin': '*', 'Access-Control-Allow-Methods': 'GET, PUT, DELETE, POST, OPTIONS', 'Access-Control-Allow-Headers': 'DNT,User-Agent,X-Requested-With,If-Modified-Since,Cache-Control,Content-Type,Range', 'Access-Control-Expose-Headers': 'Content-Length,Content-Range')>\n"
     ]
    }
   ],
   "source": [
    "name = \"Jooku\"\n",
    "\n",
    "loop = asyncio.get_event_loop()  \n",
    "\n",
    "#call function to set the summonerId and accountId for the name that I chose\n",
    "(summonerId, accountId) = loop.run_until_complete(getSummonerId(name))"
   ]
  },
  {
   "cell_type": "code",
   "execution_count": null,
   "id": "c382828f",
   "metadata": {},
   "outputs": [],
   "source": []
  },
  {
   "cell_type": "code",
   "execution_count": null,
   "id": "3af57076",
   "metadata": {},
   "outputs": [],
   "source": []
  }
 ],
 "metadata": {
  "celltoolbar": "Edit Metadata",
  "kernelspec": {
   "display_name": "Python 3 (ipykernel)",
   "language": "python",
   "name": "python3"
  },
  "language_info": {
   "codemirror_mode": {
    "name": "ipython",
    "version": 3
   },
   "file_extension": ".py",
   "mimetype": "text/x-python",
   "name": "python",
   "nbconvert_exporter": "python",
   "pygments_lexer": "ipython3",
   "version": "3.9.6"
  }
 },
 "nbformat": 4,
 "nbformat_minor": 5
}
