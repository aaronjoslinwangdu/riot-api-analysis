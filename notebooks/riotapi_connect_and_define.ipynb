{
 "cells": [
  {
   "cell_type": "markdown",
   "id": "1776aeb5",
   "metadata": {},
   "source": [
    "## Introduction\n",
    "-----------------------------\n",
    "\n",
    "In this notebook I'm using [Pantheon](https://github.com/Canisback/pantheon) to define various other functions for using the Riot API. The reason for using Pantheon is to make use of it's rate limiting system, since as a standalone account I can only make so many calls to the API without getting blacklisted."
   ]
  },
  {
   "cell_type": "code",
   "execution_count": 14,
   "id": "92278ad3",
   "metadata": {},
   "outputs": [],
   "source": [
    "import json, asyncio, nest_asyncio, datetime\n",
    "from pantheon import pantheon\n",
    "nest_asyncio.apply()"
   ]
  },
  {
   "cell_type": "markdown",
   "id": "051ebad9",
   "metadata": {},
   "source": [
    "For this next cell, I'm going to hide my API key, even though it is reset every 24 hours."
   ]
  },
  {
   "cell_type": "code",
   "execution_count": 15,
   "id": "2e3e49ef",
   "metadata": {},
   "outputs": [],
   "source": [
    "server = \"na1\"\n",
    "api_key = \"RGAPI-XXXXX\""
   ]
  },
  {
   "cell_type": "markdown",
   "id": "dc7d6452",
   "metadata": {},
   "source": [
    "These are some functions provided in [Pantheon](https://github.com/Canisback/pantheon) that I will use to get any account's summoner ID and recent match history."
   ]
  },
  {
   "cell_type": "code",
   "execution_count": 32,
   "id": "8494f26b",
   "metadata": {},
   "outputs": [],
   "source": [
    "def requestsLog(url, status, headers):\n",
    "    print(url)\n",
    "    print(status)\n",
    "    print(headers)\n",
    "\n",
    "panth = pantheon.Pantheon(server, api_key, errorHandling=True, requestsLoggingFunction=requestsLog, debug=True)\n",
    "\n",
    "async def getSummonerId(name):\n",
    "    try:\n",
    "        data = await panth.getSummonerByName(name)\n",
    "        return (data['id'],data['accountId'])\n",
    "    except Exception as e:\n",
    "        print(e)\n",
    "\n",
    "\n",
    "async def getRecentMatchlist(accountId):\n",
    "    try:\n",
    "        data = await panth.getMatchlist(accountId, params={\"endIndex\":20})\n",
    "        return data\n",
    "    except Exception as e:\n",
    "        print(e)\n",
    "\n",
    "async def getRecentMatches(accountId):\n",
    "    try:\n",
    "        matchlist = await getRecentMatchlist(accountId)\n",
    "        tasks = [panth.getMatch(match['gameId']) for match in matchlist['matches']]\n",
    "        return await asyncio.gather(*tasks)\n",
    "    except Exception as e:\n",
    "        print(e)\n",
    "        "
   ]
  },
  {
   "cell_type": "markdown",
   "id": "e5cfa273",
   "metadata": {},
   "source": [
    "You can choose whatever summoner name you want to search for, I just used my own. "
   ]
  },
  {
   "cell_type": "code",
   "execution_count": 31,
   "id": "542c253f",
   "metadata": {
    "tags": [
     "hide-output"
    ]
   },
   "outputs": [
    {
     "name": "stdout",
     "output_type": "stream",
     "text": [
      "https://na1.api.riotgames.com/lol/summoner/v4/summoners/by-name/Jooku\n",
      "200\n",
      "<CIMultiDictProxy('Date': 'Wed, 08 Sep 2021 01:54:56 GMT', 'Content-Type': 'application/json;charset=utf-8', 'Transfer-Encoding': 'chunked', 'Connection': 'keep-alive', 'Vary': 'Accept-Encoding', 'X-App-Rate-Limit': '20:1,100:120', 'X-App-Rate-Limit-Count': '1:1,4:120', 'X-Method-Rate-Limit': '2000:60', 'X-Method-Rate-Limit-Count': '4:60', 'X-Riot-Edge-Trace-Id': '799fb89c-6979-43c1-96e8-93374708e78e', 'Content-Encoding': 'gzip', 'Access-Control-Allow-Origin': '*', 'Access-Control-Allow-Methods': 'GET, PUT, DELETE, POST, OPTIONS', 'Access-Control-Allow-Headers': 'DNT,User-Agent,X-Requested-With,If-Modified-Since,Cache-Control,Content-Type,Range', 'Access-Control-Expose-Headers': 'Content-Length,Content-Range')>\n"
     ]
    }
   ],
   "source": [
    "name = \"Jooku\"\n",
    "\n",
    "#call function to set the summonerId and accountId for the name that I chose\n",
    "loop = asyncio.get_event_loop()  \n",
    "(summonerId, accountId) = loop.run_until_complete(getSummonerId(name))\n"
   ]
  },
  {
   "cell_type": "code",
   "execution_count": null,
   "id": "6a3f1b98",
   "metadata": {},
   "outputs": [],
   "source": []
  },
  {
   "cell_type": "code",
   "execution_count": null,
   "id": "3aa9eb3a",
   "metadata": {},
   "outputs": [],
   "source": []
  }
 ],
 "metadata": {
  "celltoolbar": "Edit Metadata",
  "kernelspec": {
   "display_name": "Python 3 (ipykernel)",
   "language": "python",
   "name": "python3"
  },
  "language_info": {
   "codemirror_mode": {
    "name": "ipython",
    "version": 3
   },
   "file_extension": ".py",
   "mimetype": "text/x-python",
   "name": "python",
   "nbconvert_exporter": "python",
   "pygments_lexer": "ipython3",
   "version": "3.9.6"
  }
 },
 "nbformat": 4,
 "nbformat_minor": 5
}
