{
 "cells": [
  {
   "cell_type": "markdown",
   "id": "b5279b6a",
   "metadata": {},
   "source": [
    "# Introduction\n",
    "-----------------------------\n",
    "\n",
    "In this notebook I'm using [Pantheon](https://github.com/Canisback/pantheon) to define various other functions for using the Riot API. The reason for using Pantheon is to make use of it's rate limiting system, since as a standalone account I can only make so many calls to the API without getting blacklisted."
   ]
  },
  {
   "cell_type": "code",
   "execution_count": 1,
   "id": "e7ddb528",
   "metadata": {},
   "outputs": [],
   "source": [
    "import requests, json, csv, asyncio, nest_asyncio, datetime\n",
    "import pandas as pd\n",
    "from pantheon import pantheon"
   ]
  },
  {
   "cell_type": "code",
   "execution_count": null,
   "id": "2c94b34c",
   "metadata": {},
   "outputs": [],
   "source": []
  }
 ],
 "metadata": {
  "kernelspec": {
   "display_name": "Python 3 (ipykernel)",
   "language": "python",
   "name": "python3"
  },
  "language_info": {
   "codemirror_mode": {
    "name": "ipython",
    "version": 3
   },
   "file_extension": ".py",
   "mimetype": "text/x-python",
   "name": "python",
   "nbconvert_exporter": "python",
   "pygments_lexer": "ipython3",
   "version": "3.9.6"
  }
 },
 "nbformat": 4,
 "nbformat_minor": 5
}
