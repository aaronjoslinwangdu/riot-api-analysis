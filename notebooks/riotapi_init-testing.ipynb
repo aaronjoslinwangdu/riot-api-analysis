{
 "cells": [
  {
   "cell_type": "markdown",
   "id": "1776aeb5",
   "metadata": {},
   "source": [
    "## Simple Match History Test\n",
    "-----------------------------\n",
    "\n",
    "This notebook uses [Pantheon](https://github.com/Canisback/pantheon) to define various other functions for using the Riot API. The reason for using Pantheon is to make use of it's rate limiting system, since standalone developers can only make so many calls to the API without getting blacklisted."
   ]
  },
  {
   "cell_type": "code",
   "execution_count": 2,
   "id": "92278ad3",
   "metadata": {},
   "outputs": [],
   "source": [
    "import json, asyncio, nest_asyncio, datetime, requests\n",
    "import pandas as pd #data visualization\n",
    "from pantheon import pantheon\n",
    "nest_asyncio.apply()"
   ]
  },
  {
   "cell_type": "markdown",
   "id": "051ebad9",
   "metadata": {},
   "source": [
    "Insert your own API key into the **api_key** variable in the following cell if you intend to run this."
   ]
  },
  {
   "cell_type": "code",
   "execution_count": 3,
   "id": "2e3e49ef",
   "metadata": {},
   "outputs": [],
   "source": [
    "server = \"na1\"\n",
    "api_key = \"YOUR API KEY GOES HERE\""
   ]
  },
  {
   "cell_type": "markdown",
   "id": "dc7d6452",
   "metadata": {},
   "source": [
    "These are some functions provided in [Pantheon](https://github.com/Canisback/pantheon) that fetch any account's summoner ID and recent match history."
   ]
  },
  {
   "cell_type": "code",
   "execution_count": 4,
   "id": "8494f26b",
   "metadata": {},
   "outputs": [],
   "source": [
    "def requestsLog(url, status, headers):\n",
    "    print(url)\n",
    "    print(status)\n",
    "    print(headers)\n",
    "\n",
    "panth = pantheon.Pantheon(server, api_key, errorHandling=True, requestsLoggingFunction=requestsLog, debug=True)\n",
    "\n",
    "async def getSummonerId(name):\n",
    "    try:\n",
    "        data = await panth.getSummonerByName(name)\n",
    "        return (data['id'],data['accountId'])\n",
    "    except Exception as e:\n",
    "        print(e)\n",
    "\n",
    "\n",
    "async def getRecentMatchlist(accountId):\n",
    "    try:\n",
    "        data = await panth.getMatchlist(accountId, params={\"endIndex\":20})\n",
    "        return data\n",
    "    except Exception as e:\n",
    "        print(e)\n",
    "\n",
    "async def getRecentMatches(accountId):\n",
    "    try:\n",
    "        matchlist = await getRecentMatchlist(accountId)\n",
    "        tasks = [panth.getMatch(match['gameId']) for match in matchlist['matches']]\n",
    "        return await asyncio.gather(*tasks)\n",
    "    except Exception as e:\n",
    "        print(e)\n",
    "        "
   ]
  },
  {
   "cell_type": "markdown",
   "id": "e5cfa273",
   "metadata": {},
   "source": [
    "Change the **name** variable to search for different summoners. Feel free to try with your own summoner name!"
   ]
  },
  {
   "cell_type": "code",
   "execution_count": 5,
   "id": "542c253f",
   "metadata": {
    "tags": [
     "hide-output"
    ]
   },
   "outputs": [
    {
     "name": "stdout",
     "output_type": "stream",
     "text": [
      "https://na1.api.riotgames.com/lol/summoner/v4/summoners/by-name/Jooku\n",
      "200\n",
      "<CIMultiDictProxy('Date': 'Thu, 16 Sep 2021 00:18:37 GMT', 'Content-Type': 'application/json;charset=utf-8', 'Transfer-Encoding': 'chunked', 'Connection': 'keep-alive', 'Vary': 'Accept-Encoding', 'X-App-Rate-Limit': '20:1,100:120', 'X-App-Rate-Limit-Count': '1:1,1:120', 'X-Method-Rate-Limit': '2000:60', 'X-Method-Rate-Limit-Count': '1:60', 'X-Riot-Edge-Trace-Id': '5e8e567f-3460-4270-919e-75a66e5c258b', 'Content-Encoding': 'gzip', 'Access-Control-Allow-Origin': '*', 'Access-Control-Allow-Methods': 'GET, PUT, DELETE, POST, OPTIONS', 'Access-Control-Allow-Headers': 'DNT,User-Agent,X-Requested-With,If-Modified-Since,Cache-Control,Content-Type,Range', 'Access-Control-Expose-Headers': 'Content-Length,Content-Range')>\n"
     ]
    }
   ],
   "source": [
    "name = \"Jooku\"\n",
    "\n",
    "#call function to set the summonerId and accountId for the name that I chose\n",
    "loop = asyncio.get_event_loop()  \n",
    "(summonerId, accountId) = loop.run_until_complete(getSummonerId(name))\n"
   ]
  },
  {
   "cell_type": "markdown",
   "id": "d10d9d3a",
   "metadata": {},
   "source": [
    "Use the **getRecentMatches** function provided by **Pantheon** to get recent match data in JSON format and insert it into a list called **gamesDataRaw**."
   ]
  },
  {
   "cell_type": "code",
   "execution_count": 6,
   "id": "3aa9eb3a",
   "metadata": {
    "scrolled": true
   },
   "outputs": [],
   "source": [
    "%%capture ##this just hides the huge output we would get from the loop\n",
    "gamesDataRaw = []\n",
    "gamesDataRaw = loop.run_until_complete(getRecentMatches(accountId))"
   ]
  },
  {
   "cell_type": "markdown",
   "id": "201040d6",
   "metadata": {},
   "source": [
    "Now that game data is acquired, define various functions to get various types of game-specific info.\n",
    "\n",
    "This function will return a summoner's participant ID from a game, given the game data and account ID."
   ]
  },
  {
   "cell_type": "code",
   "execution_count": 7,
   "id": "b33d1dfb",
   "metadata": {
    "scrolled": true
   },
   "outputs": [],
   "source": [
    "def getParticipantIdFromAccountId(game,accountId):\n",
    "    for participant in game['participantIdentities']:\n",
    "        if participant['player']['currentAccountId'] == accountId:\n",
    "            return participant['participantId']"
   ]
  },
  {
   "cell_type": "markdown",
   "id": "91c654b1",
   "metadata": {},
   "source": [
    "Define a function to get a participant's team ID (red/blue side) as well as the champion they are playing. \n",
    "\n",
    "Note that blue side has team ID 100 and red side has team ID 200."
   ]
  },
  {
   "cell_type": "code",
   "execution_count": 8,
   "id": "71bf8328",
   "metadata": {},
   "outputs": [],
   "source": [
    "def getTeamAndChampion(game,participantId):\n",
    "    for participant in game['participants']:\n",
    "        if participant['participantId'] == participantId:\n",
    "            return participant['teamId'],participant['championId'],participant['stats']['win']"
   ]
  },
  {
   "cell_type": "markdown",
   "id": "f6a47909",
   "metadata": {},
   "source": [
    "This function returns the team compositions for each team in a list format."
   ]
  },
  {
   "cell_type": "code",
   "execution_count": 9,
   "id": "92fd7e86",
   "metadata": {},
   "outputs": [],
   "source": [
    "def getTeamComposition(game):\n",
    "   #create an array for each team\n",
    "    comps = {100:[],200:[]}\n",
    "    for participant in game['participants']:\n",
    "        comps[participant['teamId']].append(participant['championId'])\n",
    "    return comps"
   ]
  },
  {
   "cell_type": "markdown",
   "id": "0ac21a45",
   "metadata": {},
   "source": [
    "Get the patch that the game was played on."
   ]
  },
  {
   "cell_type": "code",
   "execution_count": 10,
   "id": "050558ca",
   "metadata": {},
   "outputs": [],
   "source": [
    "def getPatch(game):\n",
    "    return \".\".join(game['gameVersion'].split(\".\")[:2])"
   ]
  },
  {
   "cell_type": "markdown",
   "id": "ddc79b31",
   "metadata": {},
   "source": [
    "Get the date that the game was played on."
   ]
  },
  {
   "cell_type": "code",
   "execution_count": 11,
   "id": "1dda4422",
   "metadata": {},
   "outputs": [],
   "source": [
    "def getDate(game):\n",
    "    return datetime.datetime.fromtimestamp(int(game[\"gameCreation\"]/1000)).strftime(\"%m/%d/%Y, %I:%M\")"
   ]
  },
  {
   "cell_type": "markdown",
   "id": "06022c54",
   "metadata": {},
   "source": [
    "Get the kills/deaths/assists of a given participant in a game."
   ]
  },
  {
   "cell_type": "code",
   "execution_count": 12,
   "id": "94985ca1",
   "metadata": {},
   "outputs": [],
   "source": [
    "def getScore(game,participantId):\n",
    "    for participant in game['participants']:\n",
    "        if participant['participantId'] == participantId:\n",
    "            score = [str(participant['stats']['kills']),str(participant['stats']['deaths']),str(participant['stats']['assists'])]\n",
    "    return \"/\".join(score)"
   ]
  },
  {
   "cell_type": "markdown",
   "id": "9d38bd17",
   "metadata": {},
   "source": [
    "Now, call the API to get info for champions and items."
   ]
  },
  {
   "cell_type": "code",
   "execution_count": 13,
   "id": "00754141",
   "metadata": {},
   "outputs": [],
   "source": [
    "responseChamps = requests.get(\"http://ddragon.leagueoflegends.com/cdn/11.17.1/data/en_US/champion.json\")\n",
    "championRawData = json.loads(responseChamps.text)\n",
    "\n",
    "responseItem = requests.get(\"http://ddragon.leagueoflegends.com/cdn/11.17.1/data/en_US/item.json\")\n",
    "itemRawData = json.loads(responseItem.text)\n"
   ]
  },
  {
   "cell_type": "markdown",
   "id": "a814305b",
   "metadata": {},
   "source": [
    "Create an array called **championIdToName** where champion names are matched with their unique IDs."
   ]
  },
  {
   "cell_type": "code",
   "execution_count": 14,
   "id": "82a4cbc8",
   "metadata": {},
   "outputs": [],
   "source": [
    "championIdToName = {}\n",
    "for key,champion in championRawData['data'].items():\n",
    "    championIdToName[int(champion['key'])] = champion['name']"
   ]
  },
  {
   "cell_type": "markdown",
   "id": "4631de94",
   "metadata": {},
   "source": [
    "Create an array called **itemIdToName** where item names are matched with their unique IDs."
   ]
  },
  {
   "cell_type": "code",
   "execution_count": 15,
   "id": "99f3e46b",
   "metadata": {},
   "outputs": [],
   "source": [
    "itemIdToName = {}\n",
    "\n",
    "for key,item in itemRawData['data'].items():\n",
    "    itemIdToName[int(key)] = item['name']"
   ]
  },
  {
   "cell_type": "markdown",
   "id": "1f772cdf",
   "metadata": {},
   "source": [
    "Define a function that returns the list of items a participant has in their inventory at the end of a match."
   ]
  },
  {
   "cell_type": "code",
   "execution_count": 16,
   "id": "afd4f339",
   "metadata": {},
   "outputs": [],
   "source": [
    "def getItemList(game,participantId):\n",
    "    for participant in game['participants']:\n",
    "        if participant['participantId'] == participantId:\n",
    "            itemsList = []\n",
    "            for i in range(0,7):\n",
    "                if not participant['stats']['item'+str(i)] == 0:\n",
    "                    itemsList.append(itemIdToName[participant['stats']['item'+str(i)]])\n",
    "            return \" / \".join(itemsList)"
   ]
  },
  {
   "cell_type": "markdown",
   "id": "09d849e1",
   "metadata": {},
   "source": [
    "Use all of the previously defined functions to get data to add to a dataframe."
   ]
  },
  {
   "cell_type": "code",
   "execution_count": 17,
   "id": "967d3eb0",
   "metadata": {},
   "outputs": [
    {
     "data": {
      "text/plain": [
       "'Alistar/Brand/Viego/Lux/Rumble'"
      ]
     },
     "execution_count": 17,
     "metadata": {},
     "output_type": "execute_result"
    }
   ],
   "source": [
    "participantId = getParticipantIdFromAccountId(gamesDataRaw[0],accountId)    \n",
    "\n",
    "teamId,championId,win = getTeamAndChampion(gamesDataRaw[0],participantId)\n",
    "\n",
    "compositions = getTeamComposition(gamesDataRaw[0])\n",
    "\n",
    "playerChampion = championIdToName[championId]\n",
    "\n",
    "teamComposition = [championIdToName[chId] for chId in compositions[teamId]]\n",
    "enemyTeamComposition = [championIdToName[chId] for chId in compositions[100 if teamId == 200 else 200]]\n",
    "\"/\".join(teamComposition)\n",
    "\"/\".join(enemyTeamComposition)\n",
    "\n"
   ]
  },
  {
   "cell_type": "markdown",
   "id": "19e8acd6",
   "metadata": {},
   "source": [
    "Create a list called **gameInformationList** and fill it with info using the previously defined functions."
   ]
  },
  {
   "cell_type": "code",
   "execution_count": 18,
   "id": "a4962e3f",
   "metadata": {},
   "outputs": [],
   "source": [
    "gameInformationList = []\n",
    "\n",
    "for game in gamesDataRaw:\n",
    "    #get the info that you want\n",
    "    participantId = getParticipantIdFromAccountId(game,accountId)\n",
    "    teamId, championId, win = getTeamAndChampion(game,participantId)\n",
    "    compositions = getTeamComposition(game)\n",
    "    \n",
    "    \n",
    "    #select the info that you want to show\n",
    "    gameInfo = {}\n",
    "    gameInfo['win'] = win\n",
    "    #gameInfo['visionScore'] = visionScore\n",
    "    gameInfo['champion'] = championIdToName[championId]\n",
    "    gameInfo['score'] = getScore(game,participantId)\n",
    "    #work on items, too long\n",
    "    #gameInfo['items'] = getItemList(game,participantId)\n",
    "    gameInfo['patch'] = getPatch(game)\n",
    "    gameInfo['date'] = getDate(game)\n",
    "    gameInfo['teamComposition'] = \"/\".join([championIdToName[chId] for chId in compositions[teamId]])\n",
    "    gameInfo['enemyTeamComposition'] = \"/\".join([championIdToName[chId] for chId in compositions[100 if teamId == 200 else 200]])\n",
    "    #add the row to the list\n",
    "    gameInformationList.append(gameInfo)"
   ]
  },
  {
   "cell_type": "markdown",
   "id": "39a35ffc",
   "metadata": {},
   "source": [
    "Create a dataframe to display **gameInformationList** in an easily readable format."
   ]
  },
  {
   "cell_type": "code",
   "execution_count": 19,
   "id": "68d82d7c",
   "metadata": {
    "scrolled": true
   },
   "outputs": [
    {
     "data": {
      "text/html": [
       "<div>\n",
       "<style scoped>\n",
       "    .dataframe tbody tr th:only-of-type {\n",
       "        vertical-align: middle;\n",
       "    }\n",
       "\n",
       "    .dataframe tbody tr th {\n",
       "        vertical-align: top;\n",
       "    }\n",
       "\n",
       "    .dataframe thead th {\n",
       "        text-align: right;\n",
       "    }\n",
       "</style>\n",
       "<table border=\"1\" class=\"dataframe\">\n",
       "  <thead>\n",
       "    <tr style=\"text-align: right;\">\n",
       "      <th></th>\n",
       "      <th>win</th>\n",
       "      <th>champion</th>\n",
       "      <th>score</th>\n",
       "      <th>patch</th>\n",
       "      <th>date</th>\n",
       "      <th>teamComposition</th>\n",
       "      <th>enemyTeamComposition</th>\n",
       "    </tr>\n",
       "  </thead>\n",
       "  <tbody>\n",
       "    <tr>\n",
       "      <th>0</th>\n",
       "      <td>False</td>\n",
       "      <td>Soraka</td>\n",
       "      <td>0/11/27</td>\n",
       "      <td>11.18</td>\n",
       "      <td>09/14/2021, 09:17</td>\n",
       "      <td>Caitlyn/Akshan/Soraka/Lucian/Mordekaiser</td>\n",
       "      <td>Alistar/Brand/Viego/Lux/Rumble</td>\n",
       "    </tr>\n",
       "    <tr>\n",
       "      <th>1</th>\n",
       "      <td>False</td>\n",
       "      <td>Evelynn</td>\n",
       "      <td>10/9/20</td>\n",
       "      <td>11.18</td>\n",
       "      <td>09/14/2021, 08:54</td>\n",
       "      <td>Lee Sin/Evelynn/Tahm Kench/Janna/Tristana</td>\n",
       "      <td>Alistar/Cassiopeia/Darius/Master Yi/Kai'Sa</td>\n",
       "    </tr>\n",
       "    <tr>\n",
       "      <th>2</th>\n",
       "      <td>True</td>\n",
       "      <td>Twitch</td>\n",
       "      <td>20/0/8</td>\n",
       "      <td>11.18</td>\n",
       "      <td>09/11/2021, 10:15</td>\n",
       "      <td>Caitlyn/Mordekaiser/Poppy/Yuumi/Twitch</td>\n",
       "      <td>Tristana/Udyr/Katarina/Soraka/Galio</td>\n",
       "    </tr>\n",
       "    <tr>\n",
       "      <th>3</th>\n",
       "      <td>True</td>\n",
       "      <td>LeBlanc</td>\n",
       "      <td>15/2/9</td>\n",
       "      <td>11.18</td>\n",
       "      <td>09/11/2021, 09:53</td>\n",
       "      <td>Yuumi/LeBlanc/Darius/Ziggs/Samira</td>\n",
       "      <td>Sivir/Nocturne/Katarina/Zilean/Leona</td>\n",
       "    </tr>\n",
       "    <tr>\n",
       "      <th>4</th>\n",
       "      <td>True</td>\n",
       "      <td>Kalista</td>\n",
       "      <td>30/2/0</td>\n",
       "      <td>11.18</td>\n",
       "      <td>09/10/2021, 11:03</td>\n",
       "      <td>Caitlyn/Miss Fortune/Kalista/Soraka/Viego</td>\n",
       "      <td>Ashe/Trundle/Annie/Taric/Cho'Gath</td>\n",
       "    </tr>\n",
       "    <tr>\n",
       "      <th>5</th>\n",
       "      <td>True</td>\n",
       "      <td>Ezreal</td>\n",
       "      <td>6/1/3</td>\n",
       "      <td>11.17</td>\n",
       "      <td>09/08/2021, 05:21</td>\n",
       "      <td>Ezreal/Brand/Corki/Graves/Gwen</td>\n",
       "      <td>Renekton/Zed/Karma/Lee Sin/Samira</td>\n",
       "    </tr>\n",
       "    <tr>\n",
       "      <th>6</th>\n",
       "      <td>False</td>\n",
       "      <td>Tristana</td>\n",
       "      <td>6/4/12</td>\n",
       "      <td>11.17</td>\n",
       "      <td>09/08/2021, 04:40</td>\n",
       "      <td>Tristana/Master Yi/Pantheon/Nasus/Galio</td>\n",
       "      <td>Ezreal/Leona/Rengar/Annie/Ornn</td>\n",
       "    </tr>\n",
       "    <tr>\n",
       "      <th>7</th>\n",
       "      <td>True</td>\n",
       "      <td>Xayah</td>\n",
       "      <td>11/0/3</td>\n",
       "      <td>11.17</td>\n",
       "      <td>09/08/2021, 03:38</td>\n",
       "      <td>Xayah/Camille/Pantheon/Lee Sin/Kassadin</td>\n",
       "      <td>Ezreal/Zyra/Graves/Shen/Ahri</td>\n",
       "    </tr>\n",
       "    <tr>\n",
       "      <th>8</th>\n",
       "      <td>True</td>\n",
       "      <td>Jhin</td>\n",
       "      <td>20/2/7</td>\n",
       "      <td>11.17</td>\n",
       "      <td>09/08/2021, 03:00</td>\n",
       "      <td>Ekko/Jhin/Ornn/Lux/Yasuo</td>\n",
       "      <td>Jarvan IV/Teemo/Zed/Heimerdinger/Trundle</td>\n",
       "    </tr>\n",
       "    <tr>\n",
       "      <th>9</th>\n",
       "      <td>True</td>\n",
       "      <td>Jhin</td>\n",
       "      <td>5/1/8</td>\n",
       "      <td>11.17</td>\n",
       "      <td>09/05/2021, 06:43</td>\n",
       "      <td>Zyra/Jhin/Diana/Graves/Sett</td>\n",
       "      <td>Aatrox/Xin Zhao/Yuumi/Ezreal/Vladimir</td>\n",
       "    </tr>\n",
       "    <tr>\n",
       "      <th>10</th>\n",
       "      <td>True</td>\n",
       "      <td>Jhin</td>\n",
       "      <td>20/4/12</td>\n",
       "      <td>11.17</td>\n",
       "      <td>09/05/2021, 05:53</td>\n",
       "      <td>Jhin/Amumu/Sion/Lux/Zyra</td>\n",
       "      <td>Riven/Master Yi/Varus/Nautilus/Katarina</td>\n",
       "    </tr>\n",
       "    <tr>\n",
       "      <th>11</th>\n",
       "      <td>False</td>\n",
       "      <td>Vayne</td>\n",
       "      <td>7/9/8</td>\n",
       "      <td>11.17</td>\n",
       "      <td>09/05/2021, 05:19</td>\n",
       "      <td>Graves/Leona/Sett/Anivia/Vayne</td>\n",
       "      <td>Syndra/Rell/Samira/Gragas/Sion</td>\n",
       "    </tr>\n",
       "    <tr>\n",
       "      <th>12</th>\n",
       "      <td>True</td>\n",
       "      <td>Jhin</td>\n",
       "      <td>8/0/4</td>\n",
       "      <td>11.17</td>\n",
       "      <td>09/05/2021, 04:55</td>\n",
       "      <td>Graves/Karma/Jhin/Sett/Anivia</td>\n",
       "      <td>Nami/Kog'Maw/Hecarim/Ekko/Ornn</td>\n",
       "    </tr>\n",
       "    <tr>\n",
       "      <th>13</th>\n",
       "      <td>True</td>\n",
       "      <td>Jhin</td>\n",
       "      <td>22/8/6</td>\n",
       "      <td>11.17</td>\n",
       "      <td>09/05/2021, 04:03</td>\n",
       "      <td>Nasus/Jhin/Ekko/Thresh/Yone</td>\n",
       "      <td>Rell/Tristana/Ornn/Elise/LeBlanc</td>\n",
       "    </tr>\n",
       "    <tr>\n",
       "      <th>14</th>\n",
       "      <td>False</td>\n",
       "      <td>Jhin</td>\n",
       "      <td>8/6/3</td>\n",
       "      <td>11.17</td>\n",
       "      <td>09/05/2021, 03:35</td>\n",
       "      <td>Jax/Karthus/Yone/Blitzcrank/Jhin</td>\n",
       "      <td>Tryndamere/Amumu/Rell/Aphelios/Akshan</td>\n",
       "    </tr>\n",
       "    <tr>\n",
       "      <th>15</th>\n",
       "      <td>False</td>\n",
       "      <td>Varus</td>\n",
       "      <td>3/5/0</td>\n",
       "      <td>11.17</td>\n",
       "      <td>09/05/2021, 03:13</td>\n",
       "      <td>Graves/Anivia/Riven/Varus/Thresh</td>\n",
       "      <td>Tristana/Leona/Yasuo/Viego/Kennen</td>\n",
       "    </tr>\n",
       "    <tr>\n",
       "      <th>16</th>\n",
       "      <td>False</td>\n",
       "      <td>Varus</td>\n",
       "      <td>9/1/3</td>\n",
       "      <td>11.17</td>\n",
       "      <td>09/05/2021, 02:36</td>\n",
       "      <td>Lee Sin/Nidalee/Varus/Syndra/Sona</td>\n",
       "      <td>Morgana/Lucian/Ekko/Tryndamere/Sivir</td>\n",
       "    </tr>\n",
       "    <tr>\n",
       "      <th>17</th>\n",
       "      <td>True</td>\n",
       "      <td>Lulu</td>\n",
       "      <td>12/1/12</td>\n",
       "      <td>11.17</td>\n",
       "      <td>09/05/2021, 11:34</td>\n",
       "      <td>Shaco/Riven/Miss Fortune/Lulu/Akali</td>\n",
       "      <td>Miss Fortune/Warwick/Vladimir/Zyra/Blitzcrank</td>\n",
       "    </tr>\n",
       "    <tr>\n",
       "      <th>18</th>\n",
       "      <td>False</td>\n",
       "      <td>Ezreal</td>\n",
       "      <td>4/8/9</td>\n",
       "      <td>11.17</td>\n",
       "      <td>09/04/2021, 05:28</td>\n",
       "      <td>Ezreal/Kled/Rumble/Zed/Senna</td>\n",
       "      <td>Nunu &amp; Willump/Cassiopeia/Yasuo/Sona/Aatrox</td>\n",
       "    </tr>\n",
       "    <tr>\n",
       "      <th>19</th>\n",
       "      <td>True</td>\n",
       "      <td>Ezreal</td>\n",
       "      <td>6/1/6</td>\n",
       "      <td>11.17</td>\n",
       "      <td>09/04/2021, 04:51</td>\n",
       "      <td>Sylas/Ezreal/Lux/Graves/Quinn</td>\n",
       "      <td>Tristana/Leona/Kassadin/Udyr/Fiora</td>\n",
       "    </tr>\n",
       "  </tbody>\n",
       "</table>\n",
       "</div>"
      ],
      "text/plain": [
       "      win  champion    score  patch               date  \\\n",
       "0   False    Soraka  0/11/27  11.18  09/14/2021, 09:17   \n",
       "1   False   Evelynn  10/9/20  11.18  09/14/2021, 08:54   \n",
       "2    True    Twitch   20/0/8  11.18  09/11/2021, 10:15   \n",
       "3    True   LeBlanc   15/2/9  11.18  09/11/2021, 09:53   \n",
       "4    True   Kalista   30/2/0  11.18  09/10/2021, 11:03   \n",
       "5    True    Ezreal    6/1/3  11.17  09/08/2021, 05:21   \n",
       "6   False  Tristana   6/4/12  11.17  09/08/2021, 04:40   \n",
       "7    True     Xayah   11/0/3  11.17  09/08/2021, 03:38   \n",
       "8    True      Jhin   20/2/7  11.17  09/08/2021, 03:00   \n",
       "9    True      Jhin    5/1/8  11.17  09/05/2021, 06:43   \n",
       "10   True      Jhin  20/4/12  11.17  09/05/2021, 05:53   \n",
       "11  False     Vayne    7/9/8  11.17  09/05/2021, 05:19   \n",
       "12   True      Jhin    8/0/4  11.17  09/05/2021, 04:55   \n",
       "13   True      Jhin   22/8/6  11.17  09/05/2021, 04:03   \n",
       "14  False      Jhin    8/6/3  11.17  09/05/2021, 03:35   \n",
       "15  False     Varus    3/5/0  11.17  09/05/2021, 03:13   \n",
       "16  False     Varus    9/1/3  11.17  09/05/2021, 02:36   \n",
       "17   True      Lulu  12/1/12  11.17  09/05/2021, 11:34   \n",
       "18  False    Ezreal    4/8/9  11.17  09/04/2021, 05:28   \n",
       "19   True    Ezreal    6/1/6  11.17  09/04/2021, 04:51   \n",
       "\n",
       "                              teamComposition  \\\n",
       "0    Caitlyn/Akshan/Soraka/Lucian/Mordekaiser   \n",
       "1   Lee Sin/Evelynn/Tahm Kench/Janna/Tristana   \n",
       "2      Caitlyn/Mordekaiser/Poppy/Yuumi/Twitch   \n",
       "3           Yuumi/LeBlanc/Darius/Ziggs/Samira   \n",
       "4   Caitlyn/Miss Fortune/Kalista/Soraka/Viego   \n",
       "5              Ezreal/Brand/Corki/Graves/Gwen   \n",
       "6     Tristana/Master Yi/Pantheon/Nasus/Galio   \n",
       "7     Xayah/Camille/Pantheon/Lee Sin/Kassadin   \n",
       "8                    Ekko/Jhin/Ornn/Lux/Yasuo   \n",
       "9                 Zyra/Jhin/Diana/Graves/Sett   \n",
       "10                   Jhin/Amumu/Sion/Lux/Zyra   \n",
       "11             Graves/Leona/Sett/Anivia/Vayne   \n",
       "12              Graves/Karma/Jhin/Sett/Anivia   \n",
       "13                Nasus/Jhin/Ekko/Thresh/Yone   \n",
       "14           Jax/Karthus/Yone/Blitzcrank/Jhin   \n",
       "15           Graves/Anivia/Riven/Varus/Thresh   \n",
       "16          Lee Sin/Nidalee/Varus/Syndra/Sona   \n",
       "17        Shaco/Riven/Miss Fortune/Lulu/Akali   \n",
       "18               Ezreal/Kled/Rumble/Zed/Senna   \n",
       "19              Sylas/Ezreal/Lux/Graves/Quinn   \n",
       "\n",
       "                             enemyTeamComposition  \n",
       "0                  Alistar/Brand/Viego/Lux/Rumble  \n",
       "1      Alistar/Cassiopeia/Darius/Master Yi/Kai'Sa  \n",
       "2             Tristana/Udyr/Katarina/Soraka/Galio  \n",
       "3            Sivir/Nocturne/Katarina/Zilean/Leona  \n",
       "4               Ashe/Trundle/Annie/Taric/Cho'Gath  \n",
       "5               Renekton/Zed/Karma/Lee Sin/Samira  \n",
       "6                  Ezreal/Leona/Rengar/Annie/Ornn  \n",
       "7                    Ezreal/Zyra/Graves/Shen/Ahri  \n",
       "8        Jarvan IV/Teemo/Zed/Heimerdinger/Trundle  \n",
       "9           Aatrox/Xin Zhao/Yuumi/Ezreal/Vladimir  \n",
       "10        Riven/Master Yi/Varus/Nautilus/Katarina  \n",
       "11                 Syndra/Rell/Samira/Gragas/Sion  \n",
       "12                 Nami/Kog'Maw/Hecarim/Ekko/Ornn  \n",
       "13               Rell/Tristana/Ornn/Elise/LeBlanc  \n",
       "14          Tryndamere/Amumu/Rell/Aphelios/Akshan  \n",
       "15              Tristana/Leona/Yasuo/Viego/Kennen  \n",
       "16           Morgana/Lucian/Ekko/Tryndamere/Sivir  \n",
       "17  Miss Fortune/Warwick/Vladimir/Zyra/Blitzcrank  \n",
       "18    Nunu & Willump/Cassiopeia/Yasuo/Sona/Aatrox  \n",
       "19             Tristana/Leona/Kassadin/Udyr/Fiora  "
      ]
     },
     "execution_count": 19,
     "metadata": {},
     "output_type": "execute_result"
    }
   ],
   "source": [
    "dataframe = pd.DataFrame(gameInformationList)\n",
    "dataframe.head(51)"
   ]
  }
 ],
 "metadata": {
  "celltoolbar": "Edit Metadata",
  "kernelspec": {
   "display_name": "Python 3 (ipykernel)",
   "language": "python",
   "name": "python3"
  },
  "language_info": {
   "codemirror_mode": {
    "name": "ipython",
    "version": 3
   },
   "file_extension": ".py",
   "mimetype": "text/x-python",
   "name": "python",
   "nbconvert_exporter": "python",
   "pygments_lexer": "ipython3",
   "version": "3.9.6"
  }
 },
 "nbformat": 4,
 "nbformat_minor": 5
}
